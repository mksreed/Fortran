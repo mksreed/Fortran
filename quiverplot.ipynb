{
 "cells": [
  {
   "cell_type": "code",
   "execution_count": null,
   "id": "7ceca624",
   "metadata": {},
   "outputs": [],
   "source": [
    "import matplotlib.pyplot as plt\n",
    "import numpy as np\n",
    "import pandas as pd\n",
    "import os"
   ]
  },
  {
   "cell_type": "code",
   "execution_count": null,
   "id": "3a1c52b1",
   "metadata": {},
   "outputs": [],
   "source": [
    "file_path=\"file.txt\"\n",
    "if os.path.exists(file_path):\n",
    "    os.remove(file_path)\n",
    "    print(f\"File '{file_path}' deleted successfully.\")\n",
    "else:\n",
    "    print(f\"File '{file_path}' does not exist.\")\n",
    "with open('outfileuv.txt', 'r') as file:\n",
    "    # Read the file line by line\n",
    "    for line in file:\n",
    "        #print(line.strip())\n",
    "        temp=(line.strip())\n",
    "        while(temp.find(\"  \")>0):\n",
    "            temp1=temp.replace(\"  \",\" \")\n",
    "            temp=temp1\n",
    "        if(temp.find(\",\")<=0):\n",
    "            temp1=temp.replace(\" \",\",\")\n",
    "            temp=temp1\n",
    "        x=temp.strip().split(\",\")\n",
    "        with open(\"file.txt\", \"a\") as f:\n",
    "            f.write(temp+\"\\n\")\n",
    "        #print(temp)\n",
    "df = pd.read_csv('file.txt', sep=',')\n",
    "df.head"
   ]
  },
  {
   "cell_type": "code",
   "execution_count": null,
   "id": "eff3a27e",
   "metadata": {},
   "outputs": [],
   "source": [
    "df['i']"
   ]
  },
  {
   "cell_type": "code",
   "execution_count": null,
   "id": "d6128eac",
   "metadata": {
    "vscode": {
     "languageId": "ruby"
    }
   },
   "outputs": [],
   "source": [
    "df.head\n",
    "#df.columns[-2]\n",
    "#df.drop(df.columns[-1], axis=1, inplace=True)\n",
    "# Create the quiver plot\n",
    "plt.figure()\n",
    "#plt.quiver(df['x'], df['y'], df['u'], df['v'], angles='xy', scale_units='xy', scale=1)\n",
    "plt.quiver(df['i'], df['x'], df['y'], df['u'],scale=5)\n",
    "plt.xlabel('x')\n",
    "plt.ylabel('y')\n",
    "plt.title('Quiver Plot from DataFrame')\n",
    "plt.grid()\n",
    "plt.show()\n",
    "\n",
    "fig, ax = plt.subplots(figsize =(14, 8))\n",
    "\n",
    "\n",
    "# Plotting the quiver\n",
    "ax.quiver(df['i'], df['x'], df['y'], df['u'])\n",
    "\n",
    "# Setting axis limits \n",
    "ax.axis([-0.3, 2.3, -0.3, 2.3])\n",
    "ax.set_aspect('equal')\n",
    "ax.set_title('Meshgrid Quiver Plot')\n",
    " \n",
    "# Displaying the plot\n",
    "plt.show()"
   ]
  },
  {
   "cell_type": "code",
   "execution_count": null,
   "id": "4bf5a781",
   "metadata": {},
   "outputs": [],
   "source": [
    "X = np.arange(-10, 10, 1)\n",
    "Y = np.arange(-10, 10, 1)\n",
    "U, V = np.meshgrid(X, Y)\n",
    "\n",
    "fig, ax = plt.subplots()\n",
    "q = ax.quiver(X, Y, U, V)\n",
    "ax.quiverkey(q, X=0.3, Y=1.1, U=10,\n",
    "             label='Quiver key, length = 10', labelpos='E')\n",
    "\n",
    "plt.show()"
   ]
  }
 ],
 "metadata": {
  "kernelspec": {
   "display_name": "Python 3",
   "language": "python",
   "name": "python3"
  },
  "language_info": {
   "codemirror_mode": {
    "name": "ipython",
    "version": 3
   },
   "file_extension": ".py",
   "mimetype": "text/x-python",
   "name": "python",
   "nbconvert_exporter": "python",
   "pygments_lexer": "ipython3",
   "version": "3.12.3"
  }
 },
 "nbformat": 4,
 "nbformat_minor": 5
}
