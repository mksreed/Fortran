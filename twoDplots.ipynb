{
 "cells": [
  {
   "cell_type": "code",
   "execution_count": 10,
   "metadata": {},
   "outputs": [],
   "source": [
    "import numpy as np\n",
    "import matplotlib.pyplot as plt \n",
    "import pandas as pd\n",
    "import os"
   ]
  },
  {
   "cell_type": "code",
   "execution_count": 13,
   "metadata": {},
   "outputs": [
    {
     "name": "stdout",
     "output_type": "stream",
     "text": [
      "File 'file.txt' deleted successfully.\n"
     ]
    }
   ],
   "source": [
    "file_path=\"file.txt\"\n",
    "if os.path.exists(file_path):\n",
    "    os.remove(file_path)\n",
    "    print(f\"File '{file_path}' deleted successfully.\")\n",
    "else:\n",
    "    print(f\"File '{file_path}' does not exist.\")\n",
    "with open('outfile.txt', 'r') as file:\n",
    "    # Read the file line by line\n",
    "    for line in file:\n",
    "        #print(line.strip())\n",
    "        temp=(line.strip())\n",
    "        while(temp.find(\"  \")>0):\n",
    "            temp1=temp.replace(\"  \",\" \")\n",
    "            temp=temp1\n",
    "        if(temp.find(\",\")<=0):\n",
    "            temp1=temp.replace(\" \",\",\")\n",
    "            temp=temp1\n",
    "        x=temp.strip().split(\",\")\n",
    "        with open(\"file.txt\", \"a\") as f:\n",
    "            f.write(temp+\"\\n\")\n",
    "        #print(temp)"
   ]
  },
  {
   "cell_type": "code",
   "execution_count": null,
   "metadata": {},
   "outputs": [],
   "source": []
  },
  {
   "cell_type": "code",
   "execution_count": null,
   "metadata": {},
   "outputs": [],
   "source": [
    "file_path=\"file1.txt\"\n",
    "if os.path.exists(file_path):\n",
    "    os.remove(file_path)\n",
    "    print(f\"File '{file_path}' deleted successfully.\")\n",
    "else:\n",
    "    print(f\"File '{file_path}' does not exist.\")\n",
    "with open('outfile1.txt', 'r') as file:\n",
    "    # Read the file line by line\n",
    "    for line in file:\n",
    "        #print(line.strip())\n",
    "        temp=(line.strip())\n",
    "        while(temp.find(\"  \")>0):\n",
    "            temp1=temp.replace(\"  \",\" \")\n",
    "            temp=temp1\n",
    "        if(temp.find(\",\")<=0):\n",
    "            temp1=temp.replace(\" \",\",\")\n",
    "            temp=temp1\n",
    "        x=temp.strip().split(\",\")\n",
    "        with open(\"file1.txt\", \"a\") as f:\n",
    "            f.write(temp+\"\\n\")\n",
    "        #print(temp)"
   ]
  },
  {
   "cell_type": "code",
   "execution_count": 14,
   "metadata": {},
   "outputs": [
    {
     "data": {
      "image/png": "[encoded data removed]",
      "text/plain": [
       "<Figure size 800x600 with 1 Axes>"
      ]
     },
     "metadata": {},
     "output_type": "display_data"
    }
   ],
   "source": [
    "df = pd.read_csv('file.txt', sep=',')\n",
    "def attach(df):\n",
    "    for col in df.columns:\n",
    "        globals()[col] = df[col]\n",
    "attach(df)\n",
    "grouped = df.groupby('T')\n",
    "\n",
    "# Plotting\n",
    "plt.figure(figsize=(8, 6))\n",
    "for name, group in grouped:\n",
    "    plt.plot(group['X'], group['U'], linestyle='-', label=name)\n",
    "\n",
    "plt.xlabel('X-axis')\n",
    "plt.ylabel('Y-axis')\n",
    "plt.title('Multiple Lines by Group')\n",
    "plt.legend()\n",
    "plt.show()"
   ]
  },
  {
   "cell_type": "code",
   "execution_count": null,
   "metadata": {},
   "outputs": [],
   "source": [
    "df = pd.read_csv('file.txt', sep=',')\n",
    "#df = pd.read_csv('outfile.txt', sep='\\\\s+')\n",
    "def attach(df):\n",
    "    for col in df.columns:\n",
    "        globals()[col] = df[col]\n",
    "attach(df)\n",
    "#df.plot(x=\"x\",y=\"u\")\n",
    "#df.plot(x=\"x\",y=\"ue\")\n",
    "# Group by 'Group'\n",
    "grouped = df.groupby('x')\n",
    "\n",
    "# Plotting\n",
    "plt.figure(figsize=(8, 6))\n",
    "for name, group in grouped:\n",
    "    #plt.plot(group['x'], group['u'], marker='o', linestyle='-', label=name)\n",
    "    plt.plot(group['u'], group['y'], linestyle='-', label=name)\n",
    "\n",
    "plt.xlabel('X-axis')\n",
    "plt.ylabel('Y-axis')\n",
    "plt.title('Multiple Lines by Group')\n",
    "plt.legend()\n",
    "plt.show()"
   ]
  },
  {
   "cell_type": "code",
   "execution_count": null,
   "metadata": {},
   "outputs": [],
   "source": [
    "df1 = pd.read_csv('file1.txt', sep=',')\n",
    "#df1.plot(x=\"x\", y=[\"uu\", \"uf\"],kind=\"line\", figsize=(10, 6))\n",
    "#df1.plot(x=\"x\", y=[\"uux\", \"uuxf\"],kind=\"line\", figsize=(10, 6))\n",
    "#df1.plot(x=\"x\", y=[\"uuxx\", \"uuxxf\"],kind=\"line\", figsize=(10, 6))\n",
    "#df1.plot(x=\"t\", y=[\"ue\", \"ue\"],kind=\"line\", figsize=(10, 6))\n",
    "#df1.plot(x=\"t\", y=[\"u4\", \"ue\"],kind=\"line\", figsize=(10, 6))\n",
    "#df1.plot(x=\"t\", y=[\"uf\", \"ue\"],kind=\"line\", figsize=(10, 6))\n",
    "df1.plot(x=\"x\", y=[\"uu\", \"u4f\"],kind=\"line\", figsize=(10, 6))\n",
    "df1.plot(x=\"x\", y=[\"uu\", \"u6f\"],kind=\"line\", figsize=(10, 6))\n",
    "df1.plot(x=\"x\", y=[\"uu\", \"u10f\"],kind=\"line\", figsize=(10, 6))\n",
    "df1.plot(x=\"x\", y=[\"uu\", \"u4f\",\"u6f\",\"u10f\"],kind=\"line\", figsize=(10, 6))\n",
    "\n",
    "#attach(df1)\n"
   ]
  },
  {
   "cell_type": "code",
   "execution_count": null,
   "metadata": {},
   "outputs": [],
   "source": [
    "df.plot(x=\"x\", y=[\"u6x\",\"u4x\"],kind=\"line\", figsize=(10, 10))\n",
    " \n",
    "# Display plot\n",
    "plt.show()"
   ]
  },
  {
   "cell_type": "code",
   "execution_count": null,
   "metadata": {},
   "outputs": [],
   "source": [
    "\n",
    "df.plot(x=\"x\", y=[\"ux\", \"uxe\", \"uxx\",\"uxxe\"],kind=\"line\", figsize=(10, 10))\n",
    " \n",
    "# Display plot\n",
    "plt.show()"
   ]
  },
  {
   "cell_type": "code",
   "execution_count": null,
   "metadata": {},
   "outputs": [],
   "source": [
    "# Plotting multiple lines on a single plot\n",
    "plt.plot(x, ux, label='ux', color='b')\n",
    "plt.plot(x, uxe, label='uxe', color='r', linestyle='--')\n",
    "plt.plot(x, uxx, label='uxx', color='g')\n",
    "plt.plot(x, uxxe, label='uxe', color='c', linestyle='--')\n",
    "#plt.plot(x, uxxe, label='uxxe', color='c',marker='o',markersize=2)\n",
    " \n",
    "# Adding labels and title\n",
    "plt.xlabel('X-axis')\n",
    "plt.ylabel('Y-axis')\n",
    "plt.title('Multiple Lines Plot')\n",
    " \n",
    "# Displaying the legend and the plot\n",
    "plt.legend()\n",
    "plt.show()"
   ]
  },
  {
   "cell_type": "code",
   "execution_count": null,
   "metadata": {},
   "outputs": [],
   "source": [
    "# Sample data\n",
    "#x = np.linspace(0, 10, 100)\n",
    "#y1 = np.sin(x)\n",
    "#y2 = np.cos(x)# Create a figure with two subplots\n",
    "\n",
    "plt.figure(figsize=(8, 6))\n",
    "\n",
    "# First subplot\n",
    "plt.subplot(3, 1, 1)  # 3 rows, 1 column, first subplot\n",
    "plt.plot(x, ux, label='ux', color='b')\n",
    "plt.plot(x, uxe, label='uxe', color='r', linestyle='--')\n",
    "plt.xlabel('X-axis')\n",
    "plt.ylabel('Y-axis')\n",
    "plt.title('UX vs UXE')\n",
    "plt.legend()\n",
    "plt.show()\n",
    "#plt.plot(x, y1)\n",
    "\n",
    "\n",
    "# Second subplot\n",
    "plt.subplot(3, 1, 1)  # 3 rows, 1 column, second subplot\n",
    "plt.plot(x, uxx, label='uxx', color='g')\n",
    "plt.plot(x, uxxe, label='uxe', color='c', linestyle='--')\n",
    "plt.xlabel('X-axis')\n",
    "plt.ylabel('Y-axis')\n",
    "plt.title('Uxx vs Uxxe')\n",
    "plt.legend()\n",
    "plt.show()\n",
    "\n",
    "\n",
    "# Second subplot\n",
    "plt.subplot(3, 1, 3)  # 3 rows, 1 column, third subplot\n",
    "plt.plot(x, uf)\n",
    "plt.title('Second')\n",
    "\n",
    "# Adjust layout and display the plot\n",
    "plt.tight_layout()\n",
    "plt.show()"
   ]
  },
  {
   "cell_type": "code",
   "execution_count": null,
   "metadata": {},
   "outputs": [],
   "source": [
    "# Sample data\n",
    "x = np.linspace(0, 10, 100)\n",
    "y1 = np.sin(x)\n",
    "y2 = np.cos(x)\n",
    "\n",
    "# Create a figure and a set of subplots\n",
    "fig, axes = plt.subplots(2, 2, figsize=(10, 8))  # 2 rows, 2 columns\n",
    "\n",
    "# Plot on the first subplot\n",
    "axes[0, 0].plot(x, y1)\n",
    "axes[0, 0].set_title('Sin(x)')\n",
    "\n",
    "# Plot on the second subplot\n",
    "axes[0, 1].plot(x, y2)\n",
    "axes[0, 1].set_title('Cos(x)')\n",
    "\n",
    "# Plot on the third subplot\n",
    "axes[1, 0].plot(x, y1 + y2)\n",
    "axes[1, 0].set_title('Sin(x) + Cos(x)')\n",
    "\n",
    "# Plot on the fourth subplot\n",
    "axes[1, 1].plot(x, y1 * y2)\n",
    "axes[1, 1].set_title('Sin(x) * Cos(x)')\n",
    "\n",
    "# Adjust layout and display the plot\n",
    "plt.tight_layout()\n",
    "plt.show()"
   ]
  },
  {
   "cell_type": "code",
   "execution_count": null,
   "metadata": {},
   "outputs": [],
   "source": [
    "# Group by 'Group'\n",
    "grouped = df.groupby('Group')\n",
    "\n",
    "# Plotting\n",
    "plt.figure(figsize=(8, 6))\n",
    "for name, group in grouped:\n",
    "    plt.plot(group['X'], group['Y'], marker='o', linestyle='-', label=name)\n",
    "\n",
    "plt.xlabel('X-axis')\n",
    "plt.ylabel('Y-axis')\n",
    "plt.title('Multiple Lines by Group')\n",
    "plt.legend()\n",
    "plt.show()"
   ]
  },
  {
   "cell_type": "code",
   "execution_count": null,
   "metadata": {},
   "outputs": [],
   "source": []
  }
 ],
 "metadata": {
  "kernelspec": {
   "display_name": "Python 3",
   "language": "python",
   "name": "python3"
  },
  "language_info": {
   "codemirror_mode": {
    "name": "ipython",
    "version": 3
   },
   "file_extension": ".py",
   "mimetype": "text/x-python",
   "name": "python",
   "nbconvert_exporter": "python",
   "pygments_lexer": "ipython3",
   "version": "3.12.3"
  }
 },
 "nbformat": 4,
 "nbformat_minor": 2
}
